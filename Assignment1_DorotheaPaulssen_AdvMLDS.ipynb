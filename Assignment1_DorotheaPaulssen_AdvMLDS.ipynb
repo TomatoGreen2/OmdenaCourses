{
 "cells": [
  {
   "cell_type": "markdown",
   "id": "228aa67c-ac01-4fc6-83e4-3b76e06f2dcd",
   "metadata": {},
   "source": [
    "### Adv. ML/DS Course - Foundations of Data Science: Practical Assignment"
   ]
  },
  {
   "cell_type": "markdown",
   "id": "754cd9e0-7697-4b08-b60a-2f503bd550ec",
   "metadata": {},
   "source": [
    "Notebook written by Dorothea Paulssen"
   ]
  },
  {
   "cell_type": "markdown",
   "id": "7bd7ce22-8ec5-473b-8476-7f8d911277fa",
   "metadata": {},
   "source": []
  },
  {
   "cell_type": "markdown",
   "id": "67f531fb-d393-44c5-8223-96afeba16d22",
   "metadata": {},
   "source": []
  },
  {
   "cell_type": "markdown",
   "id": "31e37541-34e5-4be5-8ab9-5dc803fe634f",
   "metadata": {},
   "source": [
    "#### Task 1: Introduction to Data Science"
   ]
  },
  {
   "cell_type": "markdown",
   "id": "b4f5173d-cab3-45ec-bbd2-63de1accc84e",
   "metadata": {},
   "source": [
    "(A) Provide a brief explanation of what data science is and its significance in various industries. <br>\n",
    "<br>\n",
    "Data science is a multidisciplinary field that involves using scientific methods, algorithms, processes, and systems to extract knowledge and insights from structured and unstructured data. It combines elements of statistics, mathematics, computer science, and domain expertise to analyze, interpret, and derive actionable insights from data. <br>\n",
    "<br>\n",
    "The significance of data science in various industries lies in its ability to: <br>\n",
    "<br>\n",
    "1) Inform Decision Making: Data science provides valuable insights that help organizations make informed decisions, optimize processes, and develop strategies to achieve business goals. <br>\n",
    "<br>\n",
    "2) Predictive Analytics: By analyzing historical data, data scientists can build models that forecast future trends, behaviors, and outcomes, enabling businesses to anticipate market changes and make proactive decisions. <br>\n",
    "<br>\n",
    "3) Personalization: Data science allows companies to understand customer preferences and behavior patterns, leading to personalized product recommendations, targeted marketing campaigns, and improved customer experiences. <br>\n",
    "<br>\n",
    "4) Process Optimization: Through data analysis, organizations can identify inefficiencies in their processes, supply chains, and operations, leading to cost reductions, improved productivity, and enhanced efficiency. <br>\n",
    "<br>\n",
    "5) Risk Management: Data science helps identify and mitigate risks by analyzing historical data and identifying potential threats or anomalies, enabling businesses to make better-informed decisions to manage risks effectively. <br>\n",
    "<br>\n",
    "Examples for specific industries where data science finds applications are: <br>\n",
    "<br>\n",
    "1) Healthcare: In healthcare, data science plays a crucial role in patient diagnosis, treatment optimization, drug discovery, and predicting disease outbreaks, ultimately improving patient outcomes and reducing healthcare costs. <br>\n",
    "<br>\n",
    "2) Finance: Data science is widely used in finance for fraud detection, risk assessment, algorithmic trading, customer segmentation, and portfolio optimization, enabling financial institutions to make more accurate predictions and minimize financial risks. <br>\n",
    "<br>\n",
    "3) Marketing and Advertising: Data science drives targeted advertising campaigns, customer segmentation, sentiment analysis, and social media analytics, helping companies tailor their marketing efforts to specific audiences and improve the return on investment (ROI) of marketing activities. <br>\n"
   ]
  },
  {
   "cell_type": "code",
   "execution_count": 1,
   "id": "eea2f2cb-cd5f-468b-812d-1c6a99a6464f",
   "metadata": {},
   "outputs": [
    {
     "name": "stdout",
     "output_type": "stream",
     "text": [
      "Requirement already satisfied: numpy in c:\\users\\dpaulssen\\anaconda3\\lib\\site-packages (1.26.0)\n",
      "Requirement already satisfied: pandas in c:\\users\\dpaulssen\\anaconda3\\lib\\site-packages (2.1.1)\n",
      "Requirement already satisfied: python-dateutil>=2.8.2 in c:\\users\\dpaulssen\\anaconda3\\lib\\site-packages (from pandas) (2.8.2)\n",
      "Requirement already satisfied: pytz>=2020.1 in c:\\users\\dpaulssen\\anaconda3\\lib\\site-packages (from pandas) (2023.3.post1)\n",
      "Requirement already satisfied: tzdata>=2022.1 in c:\\users\\dpaulssen\\anaconda3\\lib\\site-packages (from pandas) (2023.3)\n",
      "Requirement already satisfied: six>=1.5 in c:\\users\\dpaulssen\\anaconda3\\lib\\site-packages (from python-dateutil>=2.8.2->pandas) (1.16.0)\n",
      "Requirement already satisfied: matplotlib in c:\\users\\dpaulssen\\anaconda3\\lib\\site-packages (3.8.2)\n",
      "Requirement already satisfied: contourpy>=1.0.1 in c:\\users\\dpaulssen\\anaconda3\\lib\\site-packages (from matplotlib) (1.2.0)\n",
      "Requirement already satisfied: cycler>=0.10 in c:\\users\\dpaulssen\\anaconda3\\lib\\site-packages (from matplotlib) (0.12.1)\n",
      "Requirement already satisfied: fonttools>=4.22.0 in c:\\users\\dpaulssen\\anaconda3\\lib\\site-packages (from matplotlib) (4.47.0)\n",
      "Requirement already satisfied: kiwisolver>=1.3.1 in c:\\users\\dpaulssen\\anaconda3\\lib\\site-packages (from matplotlib) (1.4.5)\n",
      "Requirement already satisfied: numpy<2,>=1.21 in c:\\users\\dpaulssen\\anaconda3\\lib\\site-packages (from matplotlib) (1.26.0)\n",
      "Requirement already satisfied: packaging>=20.0 in c:\\users\\dpaulssen\\anaconda3\\lib\\site-packages (from matplotlib) (23.1)\n",
      "Requirement already satisfied: pillow>=8 in c:\\users\\dpaulssen\\anaconda3\\lib\\site-packages (from matplotlib) (10.0.1)\n",
      "Requirement already satisfied: pyparsing>=2.3.1 in c:\\users\\dpaulssen\\anaconda3\\lib\\site-packages (from matplotlib) (3.1.1)\n",
      "Requirement already satisfied: python-dateutil>=2.7 in c:\\users\\dpaulssen\\anaconda3\\lib\\site-packages (from matplotlib) (2.8.2)\n",
      "Requirement already satisfied: six>=1.5 in c:\\users\\dpaulssen\\anaconda3\\lib\\site-packages (from python-dateutil>=2.7->matplotlib) (1.16.0)\n"
     ]
    }
   ],
   "source": [
    "### (B) Install necessary Python libraries for data science (e.g., NumPy, Pandas, Matplotlib) using Jupyter Notebook cells.\n",
    "\n",
    "! pip install numpy pandas\n",
    "! pip install -U matplotlib"
   ]
  },
  {
   "cell_type": "code",
   "execution_count": 3,
   "id": "90c292fa-333c-4c89-893b-980e4ad6416b",
   "metadata": {},
   "outputs": [
    {
     "name": "stderr",
     "output_type": "stream",
     "text": [
      "C:\\Users\\DPaulssen\\AppData\\Local\\Temp\\ipykernel_15136\\2163395575.py:2: DeprecationWarning: \n",
      "Pyarrow will become a required dependency of pandas in the next major release of pandas (pandas 3.0),\n",
      "(to allow more performant data types, such as the Arrow string type, and better interoperability with other libraries)\n",
      "but was not found to be installed on your system.\n",
      "If this would cause problems for you,\n",
      "please provide us feedback at https://github.com/pandas-dev/pandas/issues/54466\n",
      "        \n",
      "  import pandas as pd\n"
     ]
    },
    {
     "data": {
      "text/html": [
       "<div>\n",
       "<style scoped>\n",
       "    .dataframe tbody tr th:only-of-type {\n",
       "        vertical-align: middle;\n",
       "    }\n",
       "\n",
       "    .dataframe tbody tr th {\n",
       "        vertical-align: top;\n",
       "    }\n",
       "\n",
       "    .dataframe thead th {\n",
       "        text-align: right;\n",
       "    }\n",
       "</style>\n",
       "<table border=\"1\" class=\"dataframe\">\n",
       "  <thead>\n",
       "    <tr style=\"text-align: right;\">\n",
       "      <th></th>\n",
       "      <th>ID</th>\n",
       "      <th>Photo</th>\n",
       "      <th>User</th>\n",
       "      <th>Date Uploaded</th>\n",
       "      <th>Date Spotted</th>\n",
       "      <th>Species</th>\n",
       "      <th>Species Confidence</th>\n",
       "      <th>Country</th>\n",
       "      <th>Area</th>\n",
       "      <th>Country Code</th>\n",
       "      <th>...</th>\n",
       "      <th>Moorings</th>\n",
       "      <th>Damages</th>\n",
       "      <th>Changes</th>\n",
       "      <th>Additional Species</th>\n",
       "      <th>Fishing Gear</th>\n",
       "      <th>Fishing Caught</th>\n",
       "      <th>Mobile</th>\n",
       "      <th>Confirmed</th>\n",
       "      <th>Flagged</th>\n",
       "      <th>Flag Reason</th>\n",
       "    </tr>\n",
       "  </thead>\n",
       "  <tbody>\n",
       "    <tr>\n",
       "      <th>0</th>\n",
       "      <td>399</td>\n",
       "      <td>https://api.seagrassspotter.org/media/sighting...</td>\n",
       "      <td>chiara79</td>\n",
       "      <td>2016-11-14</td>\n",
       "      <td>2014-05-25</td>\n",
       "      <td>Posidonia oceanica</td>\n",
       "      <td>Definite</td>\n",
       "      <td>Italy</td>\n",
       "      <td>Città metropolitana di Messina</td>\n",
       "      <td>IT</td>\n",
       "      <td>...</td>\n",
       "      <td>Yes, some moorings (5-10)</td>\n",
       "      <td>Mooring chain (see photo)</td>\n",
       "      <td>-</td>\n",
       "      <td>Pinna nobilis (Fan shell), juv. Coris julis (R...</td>\n",
       "      <td>-</td>\n",
       "      <td>-</td>\n",
       "      <td>False</td>\n",
       "      <td>False</td>\n",
       "      <td>False</td>\n",
       "      <td>-</td>\n",
       "    </tr>\n",
       "    <tr>\n",
       "      <th>1</th>\n",
       "      <td>401</td>\n",
       "      <td>https://api.seagrassspotter.org/media/sighting...</td>\n",
       "      <td>chiara79</td>\n",
       "      <td>2016-11-14</td>\n",
       "      <td>2016-11-14</td>\n",
       "      <td>Posidonia oceanica</td>\n",
       "      <td>Definite</td>\n",
       "      <td>Italy</td>\n",
       "      <td>Città metropolitana di Messina</td>\n",
       "      <td>IT</td>\n",
       "      <td>...</td>\n",
       "      <td>Yes, some moorings (5-10)</td>\n",
       "      <td>Mooring chain</td>\n",
       "      <td>-</td>\n",
       "      <td>Thalassoma pavo (ornate wrasse), Symphodus osc...</td>\n",
       "      <td>-</td>\n",
       "      <td>-</td>\n",
       "      <td>False</td>\n",
       "      <td>False</td>\n",
       "      <td>False</td>\n",
       "      <td>-</td>\n",
       "    </tr>\n",
       "    <tr>\n",
       "      <th>2</th>\n",
       "      <td>402</td>\n",
       "      <td>https://api.seagrassspotter.org/media/sighting...</td>\n",
       "      <td>chiara79</td>\n",
       "      <td>2016-11-14</td>\n",
       "      <td>2014-05-26</td>\n",
       "      <td>Cymodocea nodosa</td>\n",
       "      <td>Definite</td>\n",
       "      <td>Italy</td>\n",
       "      <td>Città metropolitana di Messina</td>\n",
       "      <td>IT</td>\n",
       "      <td>...</td>\n",
       "      <td>Yes, some moorings (5-10)</td>\n",
       "      <td>-</td>\n",
       "      <td>-</td>\n",
       "      <td>Chromis chromis (damselfish), Sarpa salpa (cow...</td>\n",
       "      <td>-</td>\n",
       "      <td>-</td>\n",
       "      <td>False</td>\n",
       "      <td>False</td>\n",
       "      <td>False</td>\n",
       "      <td>-</td>\n",
       "    </tr>\n",
       "    <tr>\n",
       "      <th>3</th>\n",
       "      <td>403</td>\n",
       "      <td>https://api.seagrassspotter.org/media/sighting...</td>\n",
       "      <td>chiara79</td>\n",
       "      <td>2016-11-14</td>\n",
       "      <td>2015-07-08</td>\n",
       "      <td>Posidonia oceanica</td>\n",
       "      <td>Definite</td>\n",
       "      <td>Italy</td>\n",
       "      <td>Provincia di Savona</td>\n",
       "      <td>IT</td>\n",
       "      <td>...</td>\n",
       "      <td>Yes, some moorings (5-10)</td>\n",
       "      <td>Small moorings</td>\n",
       "      <td>-</td>\n",
       "      <td>Oblada melanura (saddled seabream), Sarpa salp...</td>\n",
       "      <td>-</td>\n",
       "      <td>-</td>\n",
       "      <td>False</td>\n",
       "      <td>False</td>\n",
       "      <td>False</td>\n",
       "      <td>-</td>\n",
       "    </tr>\n",
       "    <tr>\n",
       "      <th>4</th>\n",
       "      <td>404</td>\n",
       "      <td>https://api.seagrassspotter.org/media/sighting...</td>\n",
       "      <td>chiara79</td>\n",
       "      <td>2016-11-14</td>\n",
       "      <td>2015-07-02</td>\n",
       "      <td>Posidonia oceanica</td>\n",
       "      <td>Definite</td>\n",
       "      <td>Italy</td>\n",
       "      <td>Metropolitan City of Naples</td>\n",
       "      <td>IT</td>\n",
       "      <td>...</td>\n",
       "      <td>-</td>\n",
       "      <td>Possible boat anchoring, not certain</td>\n",
       "      <td>-</td>\n",
       "      <td>Chromis chromis (damselfish)</td>\n",
       "      <td>-</td>\n",
       "      <td>-</td>\n",
       "      <td>False</td>\n",
       "      <td>False</td>\n",
       "      <td>False</td>\n",
       "      <td>-</td>\n",
       "    </tr>\n",
       "  </tbody>\n",
       "</table>\n",
       "<p>5 rows × 33 columns</p>\n",
       "</div>"
      ],
      "text/plain": [
       "    ID                                              Photo      User  \\\n",
       "0  399  https://api.seagrassspotter.org/media/sighting...  chiara79   \n",
       "1  401  https://api.seagrassspotter.org/media/sighting...  chiara79   \n",
       "2  402  https://api.seagrassspotter.org/media/sighting...  chiara79   \n",
       "3  403  https://api.seagrassspotter.org/media/sighting...  chiara79   \n",
       "4  404  https://api.seagrassspotter.org/media/sighting...  chiara79   \n",
       "\n",
       "  Date Uploaded Date Spotted             Species Species Confidence Country  \\\n",
       "0    2016-11-14   2014-05-25  Posidonia oceanica           Definite   Italy   \n",
       "1    2016-11-14   2016-11-14  Posidonia oceanica           Definite   Italy   \n",
       "2    2016-11-14   2014-05-26    Cymodocea nodosa           Definite   Italy   \n",
       "3    2016-11-14   2015-07-08  Posidonia oceanica           Definite   Italy   \n",
       "4    2016-11-14   2015-07-02  Posidonia oceanica           Definite   Italy   \n",
       "\n",
       "                             Area Country Code  ...  \\\n",
       "0  Città metropolitana di Messina           IT  ...   \n",
       "1  Città metropolitana di Messina           IT  ...   \n",
       "2  Città metropolitana di Messina           IT  ...   \n",
       "3             Provincia di Savona           IT  ...   \n",
       "4     Metropolitan City of Naples           IT  ...   \n",
       "\n",
       "                    Moorings                               Damages  Changes  \\\n",
       "0  Yes, some moorings (5-10)             Mooring chain (see photo)        -   \n",
       "1  Yes, some moorings (5-10)                         Mooring chain        -   \n",
       "2  Yes, some moorings (5-10)                                     -        -   \n",
       "3  Yes, some moorings (5-10)                        Small moorings        -   \n",
       "4                          -  Possible boat anchoring, not certain        -   \n",
       "\n",
       "                                  Additional Species Fishing Gear  \\\n",
       "0  Pinna nobilis (Fan shell), juv. Coris julis (R...            -   \n",
       "1  Thalassoma pavo (ornate wrasse), Symphodus osc...            -   \n",
       "2  Chromis chromis (damselfish), Sarpa salpa (cow...            -   \n",
       "3  Oblada melanura (saddled seabream), Sarpa salp...            -   \n",
       "4                       Chromis chromis (damselfish)            -   \n",
       "\n",
       "  Fishing Caught Mobile Confirmed Flagged Flag Reason  \n",
       "0              -  False     False   False           -  \n",
       "1              -  False     False   False           -  \n",
       "2              -  False     False   False           -  \n",
       "3              -  False     False   False           -  \n",
       "4              -  False     False   False           -  \n",
       "\n",
       "[5 rows x 33 columns]"
      ]
     },
     "execution_count": 3,
     "metadata": {},
     "output_type": "execute_result"
    }
   ],
   "source": [
    "### (c) Import a dataset of your choice (e.g., CSV or Excel file) using Pandas. Display the first few rows of the dataset to understand its structure.\n",
    "import pandas as pd\n",
    "import numpy as np\n",
    "import matplotlib.pyplot as plt\n",
    "\n",
    "df = pd.read_csv('SeagrassSpotter_sighting_report_Italy.csv')\n",
    "df.head(5)"
   ]
  },
  {
   "cell_type": "code",
   "execution_count": 4,
   "id": "c2d1c33e-d2b1-4de1-9b23-2da71d3d49a9",
   "metadata": {},
   "outputs": [
    {
     "data": {
      "text/plain": [
       "Index(['ID', 'Photo', 'User', 'Date Uploaded', 'Date Spotted', 'Species',\n",
       "       'Species Confidence', 'Country', 'Area', 'Country Code', 'Latitude',\n",
       "       'Longitude', 'Accuracy', 'Observe', 'Intertidal', 'Sediment', 'Depth',\n",
       "       'Size', 'Algae', 'Flowers', 'Length', 'Fishing', 'Boats', 'Moorings',\n",
       "       'Damages', 'Changes', 'Additional Species', 'Fishing Gear',\n",
       "       'Fishing Caught', 'Mobile', 'Confirmed', 'Flagged', 'Flag Reason'],\n",
       "      dtype='object')"
      ]
     },
     "execution_count": 4,
     "metadata": {},
     "output_type": "execute_result"
    }
   ],
   "source": [
    "df.columns"
   ]
  },
  {
   "cell_type": "code",
   "execution_count": 43,
   "id": "67eb133b-fe98-44ce-94d9-798e078fcbf1",
   "metadata": {},
   "outputs": [
    {
     "data": {
      "text/plain": [
       "array(['Snorkelling or free diving', 'SCUBA', '-', 'Walking at low tide'],\n",
       "      dtype=object)"
      ]
     },
     "execution_count": 43,
     "metadata": {},
     "output_type": "execute_result"
    }
   ],
   "source": [
    "df['Observe'].unique()"
   ]
  },
  {
   "cell_type": "markdown",
   "id": "c9e18c4b-4c43-411f-aec3-b6d63cc70f8b",
   "metadata": {},
   "source": [
    "#### Task 2: Core Concepts and Principles"
   ]
  },
  {
   "cell_type": "code",
   "execution_count": 8,
   "id": "163d06c2-dced-41a0-b898-ae630719d21a",
   "metadata": {},
   "outputs": [],
   "source": [
    "### (A) Create variables representing different data types (integer, float, string). Explore and demonstrate basic operations on these variables.\n",
    "\n",
    "import random\n",
    "import string\n",
    "\n",
    "# creating a single variable integer\n",
    "varA = random.randint(1, 100)\n",
    "\n",
    "# creating a numpy array of integers\n",
    "varAnp = np.random.randint(1, 100)\n",
    "\n",
    "# Basic operations\n",
    "meanA = np.mean(varAnp)\n",
    "stddevA = np.std(varAnp)\n",
    "prodAtimesA = varAnp*varA\n",
    "\n",
    "# creating a single variable float\n",
    "varB = random.uniform(0, 1)\n",
    "\n",
    "# creating a numpy array of floats\n",
    "varBnp = np.random.rand()\n",
    "\n",
    "# Basic operations\n",
    "elemwise = varAnp / varBnp\n",
    "prod10np = varBnp * 1000\n",
    "result_sin = np.sin(varBnp)\n",
    "\n",
    "# creating a single variable string\n",
    "characters = string.ascii_letters\n",
    "varC = ''.join(random.choices(characters, k=10))\n",
    "\n",
    "# creating a numpy array of random strings\n",
    "varCnp = np.random.choice(list(string.ascii_lowercase),  size=(3, 5,4))\n",
    "\n",
    "# Basic operations\n",
    "slice1 = varCnp[1:3]\n",
    "concatenated = np.char.add(varCnp, \"suffix\")\n",
    "is_equal1 = varCnp == \"j\"\n",
    "upper_case = np.char.upper(varCnp) \n",
    "sorted_array = np.sort(varCnp)\n",
    "unique_values = np.unique(varCnp)"
   ]
  },
  {
   "cell_type": "code",
   "execution_count": 13,
   "id": "53290333-8b2c-4b2b-8897-780586f2c803",
   "metadata": {},
   "outputs": [
    {
     "name": "stdout",
     "output_type": "stream",
     "text": [
      "['Posidonia oceanica' 'Cymodocea nodosa' 'Zostera marina']\n",
      "[False  True]\n",
      "Posidonia oceanica\n"
     ]
    }
   ],
   "source": [
    "### (B) Apply data manipulation techniques using Pandas. Perform tasks such as filtering, sorting, and grouping on the loaded dataset.\n",
    "\n",
    "# Convert 'Date Uploaded' column to datetime\n",
    "df['Date Uploaded'] = pd.to_datetime(df['Date Uploaded'])\n",
    "\n",
    "# Convert 'Date Spotted' column to datetime\n",
    "df['Date Spotted'] = pd.to_datetime(df['Date Spotted'])\n",
    "\n",
    "# Sort the DataFrame based on the 'Date Spotted' column\n",
    "df_sorted = df.sort_values(by='Date Spotted')\n",
    "\n",
    "# explore unique identifiers in columns\n",
    "print(df['Species'].unique())\n",
    "print(df['Confirmed'].unique())\n",
    "\n",
    "# sort dataframe alphabetically\n",
    "df_sorted = df_sorted.sort_values(by='Species')\n",
    "\n",
    "# Filter the DataFrame where 'Confirmed' is True\n",
    "df_filtered = df_sorted[df_sorted['Confirmed'] == True]\n",
    "\n",
    "# Print the grouped DataFrame\n",
    "grouped_df = df_filtered.groupby('Species')\n",
    "for species, group in grouped_df:\n",
    "    print(species)"
   ]
  },
  {
   "cell_type": "code",
   "execution_count": 16,
   "id": "019fb439-9fbf-4ec9-85e2-fa4fb6f365f4",
   "metadata": {},
   "outputs": [],
   "source": [
    "### (C) Create a new feature based on existing features in the dataset. Explain the rationale behind the feature engineering process.\n",
    "\n",
    "# Extract year from 'Date Spotted' and store it in a new column 'Spotting_Year'\n",
    "df['Spotting_Year'] = df['Date Spotted'].dt.year\n",
    "\n",
    "# Calculate the lag time and store it in a new column 'lag time'\n",
    "df['lag time'] = df['Date Spotted'] - df['Date Uploaded']\n",
    "\n",
    "### the reason for engineering these features is that year is a variable which is easier readable 'lag time' can be an important indicator, how \n",
    "### reliable the record is"
   ]
  },
  {
   "cell_type": "markdown",
   "id": "81ba6465-1c97-4165-84ca-4c70edff7256",
   "metadata": {},
   "source": [
    "#### Task 3: Statistical Analysis"
   ]
  },
  {
   "cell_type": "code",
   "execution_count": 17,
   "id": "91c13600-0746-4e89-9eeb-7331bdd3813b",
   "metadata": {},
   "outputs": [
    {
     "name": "stdout",
     "output_type": "stream",
     "text": [
      "Counts of records for each species:\n",
      "Species\n",
      "Posidonia oceanica    37\n",
      "Cymodocea nodosa       7\n",
      "Zostera marina         1\n",
      "Name: count, dtype: int64\n",
      "\n",
      "Statistics for Latitude for each species:\n",
      "                         mean     median       std\n",
      "Species                                           \n",
      "Cymodocea nodosa    40.725466  39.877576  2.378251\n",
      "Posidonia oceanica  41.727998  42.377356  2.395815\n",
      "Zostera marina      45.435220  45.435220       NaN\n"
     ]
    }
   ],
   "source": [
    "### (A) Compute and interpret key descriptive statistics (mean, median, standard deviation) for relevant columns in the dataset.\n",
    "\n",
    "# Calculate the count of records for each unique value in 'Species'\n",
    "species_counts = df['Species'].value_counts()\n",
    "\n",
    "# Calculate the mean, median, and standard deviation of 'Latitude' for each unique value in 'Species'\n",
    "species_stats = df.groupby('Species')['Latitude'].agg(['mean', 'median', 'std'])\n",
    "\n",
    "# Print the counts of records for each species\n",
    "print(\"Counts of records for each species:\")\n",
    "print(species_counts)\n",
    "\n",
    "# Print the statistics for 'Latitude' for each species\n",
    "print(\"\\nStatistics for Latitude for each species:\")\n",
    "print(species_stats)"
   ]
  },
  {
   "cell_type": "code",
   "execution_count": 18,
   "id": "b80edc48-1b04-4587-b309-9a85632b0a87",
   "metadata": {},
   "outputs": [
    {
     "name": "stdout",
     "output_type": "stream",
     "text": [
      "\n",
      "Statistics for Longitude for each species:\n",
      "                         mean     median       std\n",
      "Species                                           \n",
      "Cymodocea nodosa     9.279903   8.442431  2.541392\n",
      "Posidonia oceanica  10.314639   8.488712  2.968431\n",
      "Zostera marina      12.318928  12.318928       NaN\n"
     ]
    }
   ],
   "source": [
    "### (A) continued\n",
    "\n",
    "# Calculate the mean, median, and standard deviation of 'Latitude' for each unique value in 'Species'\n",
    "species_stats2 = df.groupby('Species')['Longitude'].agg(['mean', 'median', 'std'])\n",
    "\n",
    "# Print the statistics for 'Latitude' for each species\n",
    "print(\"\\nStatistics for Longitude for each species:\")\n",
    "print(species_stats2)"
   ]
  },
  {
   "cell_type": "code",
   "execution_count": 20,
   "id": "afc6d502-c528-4c30-8902-8406d4665e23",
   "metadata": {},
   "outputs": [
    {
     "name": "stdout",
     "output_type": "stream",
     "text": [
      "T-statistic: -0.9433946468883107\n",
      "P-value: 0.3508744955265547\n"
     ]
    }
   ],
   "source": [
    "### (B) Inferential Statistics. Formulate a hypothesis related to the dataset. Conduct a statistical test (e.g., t-test) to test the hypothesis.\n",
    "### Provide conclusions based on the test results.\n",
    "\n",
    "# Hypothesis: the records for Posidonia oceanica are significantly more recent than for Cymodocea nodosa\n",
    "from scipy.stats import ttest_ind\n",
    "\n",
    "# Filter the DataFrame for 'Posidonia oceanica' and 'Cymodocea nodosa' species\n",
    "posidonia_df = df[df['Species'] == 'Posidonia oceanica']\n",
    "cymodocea_df = df[df['Species'] == 'Cymodocea nodosa']\n",
    "\n",
    "# Extract the 'Spotting_Year' column for each species\n",
    "posidonia_spotting_year = posidonia_df['Spotting_Year']\n",
    "cymodocea_spotting_year = cymodocea_df['Spotting_Year']\n",
    "\n",
    "# Perform the t-test\n",
    "t_statistic, p_value = ttest_ind(posidonia_spotting_year, cymodocea_spotting_year)\n",
    "\n",
    "# Print the results\n",
    "print(\"T-statistic:\", t_statistic)\n",
    "print(\"P-value:\", p_value)\n",
    "\n",
    "### -> there is not enough evidence to conclude that the mean spotting year for 'Posidonia oceanica' is significantly more recent than for 'Cymodocea nodosa'."
   ]
  },
  {
   "cell_type": "markdown",
   "id": "cd756534-6319-463e-b2c3-dcb8ebdf6356",
   "metadata": {},
   "source": [
    "#### Task 4: Exploratory Data Analysis"
   ]
  },
  {
   "cell_type": "code",
   "execution_count": 21,
   "id": "3da8e2a0-d465-4936-be4d-f808866b6347",
   "metadata": {},
   "outputs": [
    {
     "data": {
      "image/png": "[encoded data removed]",
      "text/plain": [
       "<Figure size 1000x500 with 2 Axes>"
      ]
     },
     "metadata": {},
     "output_type": "display_data"
    }
   ],
   "source": [
    "### (A) Create at least three visualizations (e.g., histograms, scatter plots, box plots) to explore relationships within the dataset.\n",
    "\n",
    "# Filter the DataFrame where 'Species' is 'Posidonia oceanica'\n",
    "posidonia_df = df[df['Species'] == 'Posidonia oceanica']\n",
    "\n",
    "# Plot histograms for 'Latitude' and 'Longitude'\n",
    "plt.figure(figsize=(10, 5))\n",
    "\n",
    "plt.subplot(1, 2, 1)\n",
    "plt.hist(posidonia_df['Latitude'], bins=20, color='skyblue', edgecolor='black')\n",
    "plt.title('Histogram of Latitude for Posidonia oceanica')\n",
    "plt.xlabel('Latitude')\n",
    "plt.ylabel('Frequency')\n",
    "\n",
    "plt.subplot(1, 2, 2)\n",
    "plt.hist(posidonia_df['Longitude'], bins=20, color='salmon', edgecolor='black')\n",
    "plt.title('Histogram of Longitude for Posidonia oceanica')\n",
    "plt.xlabel('Longitude')\n",
    "plt.ylabel('Frequency')\n",
    "\n",
    "plt.tight_layout()\n",
    "plt.show()"
   ]
  },
  {
   "cell_type": "code",
   "execution_count": 22,
   "id": "52cdc322-2a52-4b4b-aafa-aa30204da776",
   "metadata": {},
   "outputs": [
    {
     "data": {
      "image/png": "[encoded data removed]",
      "text/plain": [
       "<Figure size 1000x500 with 1 Axes>"
      ]
     },
     "metadata": {},
     "output_type": "display_data"
    }
   ],
   "source": [
    "### (A) continued\n",
    "\n",
    "# Calculate the frequency of each spotting year\n",
    "spotting_year_counts = posidonia_df['Spotting_Year'].value_counts()\n",
    "\n",
    "# Plot the scatter plot\n",
    "plt.figure(figsize=(10, 5))\n",
    "plt.scatter(spotting_year_counts.index, spotting_year_counts.values, color='skyblue')\n",
    "plt.title('Spotting Year Frequency for Posidonia oceanica')\n",
    "plt.xlabel('Spotting Year')\n",
    "plt.ylabel('Frequency')\n",
    "plt.grid(True)\n",
    "plt.show()"
   ]
  },
  {
   "cell_type": "code",
   "execution_count": 55,
   "id": "3bcb3f9e-9ddf-4418-83e8-35f9eb8cdc26",
   "metadata": {},
   "outputs": [
    {
     "data": {
      "image/png": "[encoded data removed]",
      "text/plain": [
       "<Figure size 1000x600 with 1 Axes>"
      ]
     },
     "metadata": {},
     "output_type": "display_data"
    }
   ],
   "source": [
    "### (A) (continued)\n",
    "\n",
    "import seaborn as sns\n",
    "\n",
    "# Filter the DataFrame for 'Posidonia oceanica' and 'Cymodocea nodosa' species\n",
    "filtered_df = df[df['Species'].isin(['Posidonia oceanica', 'Cymodocea nodosa'])]\n",
    "\n",
    "# Plot the box plots\n",
    "plt.figure(figsize=(10, 6))\n",
    "sns.boxplot(x='Species', y='Depth', data=filtered_df)\n",
    "plt.title('Box plots of Depth grouped by Species')\n",
    "plt.xlabel('Species')\n",
    "plt.ylabel('Depth')\n",
    "plt.show()"
   ]
  },
  {
   "cell_type": "code",
   "execution_count": 57,
   "id": "13380f65-c59d-4933-8c1c-e0de3e937d72",
   "metadata": {},
   "outputs": [
    {
     "data": {
      "image/png": "[encoded data removed]",
      "text/plain": [
       "<Figure size 1000x600 with 1 Axes>"
      ]
     },
     "metadata": {},
     "output_type": "display_data"
    }
   ],
   "source": [
    "### (B) Outlier Detection. Identify and handle outliers in the dataset. Explain the methodology and reasoning behind your approach.\n",
    "\n",
    "# Plot the box plots\n",
    "plt.figure(figsize=(10, 6))\n",
    "sns.boxplot(x='Species', y='Length', data=filtered_df)\n",
    "plt.title('Box plots of Length grouped by Species')\n",
    "plt.xlabel('Species')\n",
    "plt.ylabel('Length')\n",
    "plt.show()"
   ]
  },
  {
   "cell_type": "code",
   "execution_count": 58,
   "id": "7986eaa1-90d4-4dc0-b0a3-b0a26306f39d",
   "metadata": {},
   "outputs": [
    {
     "name": "stdout",
     "output_type": "stream",
     "text": [
      "Chi-squared statistic: 0.0\n",
      "P-value: 1.0\n"
     ]
    }
   ],
   "source": [
    "### (B) (continued)\n",
    "\n",
    "from scipy.stats import chi2_contingency\n",
    "\n",
    "# Calculate the frequency of each length in the Posidonia filtered frame (as Posidonia has most entries)\n",
    "length_counts = posidonia_df['Country Code'].value_counts()\n",
    "\n",
    "# Perform chi-squared test\n",
    "chi2, p_value, _, _ = chi2_contingency([length_counts.values])\n",
    "\n",
    "# Print the results\n",
    "print(\"Chi-squared statistic:\", chi2)\n",
    "print(\"P-value:\", p_value)\n",
    "\n",
    "### All county codes appear with similar frequencies, and there is no evidence to suggest that one country code appears significantly less frequently than the \n",
    "### others. Therefore, there are no outliers in terms of country code based on the chi-squared test"
   ]
  },
  {
   "cell_type": "code",
   "execution_count": 59,
   "id": "a086c428-4b08-4746-b33e-65d69fa042a8",
   "metadata": {},
   "outputs": [
    {
     "name": "stdout",
     "output_type": "stream",
     "text": [
      "Correlation coefficient between Longitude and Latitude: -0.5481239359628677\n"
     ]
    }
   ],
   "source": [
    "### (C) Compute and interpret the correlation between two relevant variables in the dataset.\n",
    "# Compute the correlation between 'Longitude' and 'Latitude'\n",
    "correlation = df['Longitude'].corr(df['Latitude'])\n",
    "\n",
    "# Print the correlation coefficient\n",
    "print(\"Correlation coefficient between Longitude and Latitude:\", correlation)\n",
    "\n",
    "### This indicates a moderate negative correlation between Longitude and Latitude in your dataset. In geographical terms, \n",
    "### a negative correlation between Longitude and Latitude suggests that as Longitude increases (moving eastward), Latitude tends \n",
    "### to decrease (moving southward), and vice versa."
   ]
  },
  {
   "cell_type": "code",
   "execution_count": null,
   "id": "4ecd6247-dce0-4d4e-ad66-c95a027a4c7f",
   "metadata": {},
   "outputs": [],
   "source": []
  }
 ],
 "metadata": {
  "kernelspec": {
   "display_name": "omdenaclasses",
   "language": "python",
   "name": "omdenaclasses"
  },
  "language_info": {
   "codemirror_mode": {
    "name": "ipython",
    "version": 3
   },
   "file_extension": ".py",
   "mimetype": "text/x-python",
   "name": "python",
   "nbconvert_exporter": "python",
   "pygments_lexer": "ipython3",
   "version": "3.11.5"
  }
 },
 "nbformat": 4,
 "nbformat_minor": 5
}
